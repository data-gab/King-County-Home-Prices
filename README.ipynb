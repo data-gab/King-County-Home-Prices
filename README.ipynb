{
 "cells": [
  {
   "cell_type": "markdown",
   "metadata": {},
   "source": [
    "# Analysis of Home Prices in King County, Washington, USA\n",
    "***"
   ]
  },
  {
   "cell_type": "markdown",
   "metadata": {},
   "source": [
    "<img src= \"images/seattle.jpg\" />"
   ]
  },
  {
   "cell_type": "markdown",
   "metadata": {},
   "source": [
    "## Business Problem\n",
    "***\n",
    "\n",
    "A property investor is looking to \"flip\" houses in King County, WA for profit. \"Flipping houses\" is a term used for the action of buying property (in this case houses) that are in poor to average conditions in a good, well-established neighborhood (most likely in a expensive housing market) for cheap and renovating those houses and selling them for higher than they were bought for in order to make profit. The property investor wants to know if King County, WA is a good housing market to invest in and flip houses for profit."
   ]
  },
  {
   "cell_type": "markdown",
   "metadata": {},
   "source": [
    "## Objectives\n",
    "***\n",
    "\n",
    "The objectives of this analysis was to gain presepctive and understanding of the King County housing market so that the stakeholder, a property investor looking to flip houses in King County for profit, has the information they need to succeed in their endeavours. The data used in this analysis was obtained from the [King County Website](https://www.kingcounty.gov/services/data.aspx) along with a [pdf](https://www.kingcounty.gov/depts/assessor/Reports/area-reports/2017/residential-westcentral/~/media/depts/assessor/documents/AreaReports/2017/Residential/013.ashx) also obtained from the King County government website that gives more information about the dataset."
   ]
  },
  {
   "cell_type": "markdown",
   "metadata": {},
   "source": [
    "## Data Obtained from King County Website\n",
    "***\n",
    "* kc_house_data.csv\n",
    "    * A subset of public data provided the King County website\n",
    "    * A description of this data set was obtained from [kaggle website](https://www.kaggle.com/harlfoxem/housesalesprediction): \"This dataset contains house sale prices for King County, which includes Seattle. It includes homes sold between May 2014 and May 2015.\"\n",
    "    * Brief description of columns in this dataset:\n",
    "        * id - Unique identifier for house\n",
    "        * date - Date house was sold\n",
    "        * price - Sales price of home\n",
    "        * bedrooms - Number of bedrooms\n",
    "        * bathrooms - Number of bathrooms\n",
    "        * sqft_living - Square footage of living area\n",
    "        * sqft_lot - Square footage of lot\n",
    "        * floors - # floors (levels) in house\n",
    "        * waterfront - Number from 0 to 1 reflecting if house is categorized as a waterfront property\n",
    "        * view - Number from 0 to 4 reflecting quality of sceanic view\n",
    "        * condition - Number from 1 to 5 reflecting the overall condition of the property\n",
    "        * grade - Number from 1 to 13 refelecting the overall grade given to the property, based on King County grading system\n",
    "        * sqft_above - Square footage of living area above ground/ from basement\n",
    "        * sqft_basement - Square footage of the basement\n",
    "        * yr_built - Year house was built\n",
    "        * yr_renovated - Year house was renovated\n",
    "        * zipcode - zip code\n",
    "        * lat - Latitude coordinate\n",
    "        * long - Longitude coordinate\n",
    "        * sqft_living15 - Average square footage of living area of the nearest 15 neighbors"
   ]
  },
  {
   "cell_type": "markdown",
   "metadata": {},
   "source": [
    "## Other resources\n",
    "***\n",
    "[Slideshow url]()\n",
    "\n",
    "[Video url]()\n",
    "\n",
    "[Blog Post URL]()\n",
    "\n",
    "[Data Cleaning](data_cleaning.ipynb)\n",
    "\n",
    "[Stakeholder Questions](Stakeholder_questions.ipynb)\n",
    "\n",
    "[Linear Regression](EDA_linear_regression.ipynb)\n"
   ]
  },
  {
   "cell_type": "markdown",
   "metadata": {},
   "source": [
    "## Proposed Questions\n",
    "***"
   ]
  },
  {
   "cell_type": "markdown",
   "metadata": {},
   "source": [
    "### Question 1: What are the Top 20 Zipcodes in Terms of Price of Home?\n",
    "<img src= \"images/kc_zipcodes.gif\"/>"
   ]
  },
  {
   "cell_type": "markdown",
   "metadata": {},
   "source": [
    "#### Graphics\n",
    "After data was cleaned and organized (see Access to cleaned database notebooks), exploratory data analysis was performed and the following graph was created using the Python data visualization library, Seaborn. The following visualization displays the top 20 zipcodes in King County, WA in terms of price of homes\n",
    "\n",
    "<img src= \"images/top_20_zips.png\"/>"
   ]
  },
  {
   "cell_type": "markdown",
   "metadata": {},
   "source": [
    "#### Observations and Conclusions\n",
    "The visualization above shows the top 20 zipcodes according to average home price. As you can see from the map above (or by conducting a simple google search), a majority of these zipcodes are near the main city of Seattle, WA. \n",
    "\n",
    "#### Recommendations\n",
    "I would recommend the property investor to flip houses in these zipcodes so that they can make more profit off of their rennovations. These a majority of the zipcodes reside outside of the main city of Seattle, WA. These zipcodes are beneficial for home owners who have families or do not want to live within the hustle and bustle of the city and are looking for a more tranquil environment, without being too far from the city. Being close to Seattle is a major attraction to many home buyers since it is most likely where they work or where more job opportunitites are available."
   ]
  },
  {
   "cell_type": "markdown",
   "metadata": {},
   "source": [
    "***\n",
    "<img src= \"images/cond and grade info.png\"/>"
   ]
  },
  {
   "cell_type": "markdown",
   "metadata": {},
   "source": [
    "The above information is from a [pdf](https://www.kingcounty.gov/depts/assessor/Reports/area-reports/2017/residential-westcentral/~/media/depts/assessor/documents/AreaReports/2017/Residential/013.ashx) that was obtained from the King County government website. This information will be used for insight on the following questions."
   ]
  },
  {
   "cell_type": "markdown",
   "metadata": {},
   "source": [
    "***\n",
    "### Question 2: What Grade of Homes Sell at the Highest Price?\n",
    "\n",
    "#### Graphics\n",
    "The visualizations below demonstrate the grades of homes according to the home price.\n",
    "\n",
    "<img src= \"images/grd_vs_price.png\"/>\n",
    "<img src= \"images/grd_joint.png\"/>\n",
    "<img src= \"images/grade_vs_price.png\"/>"
   ]
  },
  {
   "cell_type": "markdown",
   "metadata": {},
   "source": [
    "#### Observations and Conclusions\n",
    "The above graphics show that the price of the houses increases as the grade increases. This makes sense since most home buyers are looking to buy homes that have little or no rennovation to be done. Even though the building grades range from 1-13, after removing outliers in the data, we found that a majority of homes sold in King County were from grades 5-11.\n",
    "\n",
    "#### Recommendations\n",
    "I would recommended to the stakeholder to not hold back on construction and rennovations. As you can see from the chart and graphics provided above, the homes that sell at the highest price are homes with grades of 11. A grade of 11 is described as \"Custom design and higher quality finish work, with added amenities of solid woods, bathroom fixtures and more luxurious options.\" This shows that home buyers are willing to pay more for a home that is well constructed and higher quality. The property investor can cheap out on renovations and create an average house, but they will not see a huge return on investment. If the property owner rennovates the homes to have a building range from 9-13, I believe they will see a great return on investment."
   ]
  },
  {
   "cell_type": "markdown",
   "metadata": {},
   "source": [
    "***\n",
    "### Question 3: What Condition of Homes Sell at the Highest Price?\n",
    "\n",
    "#### Graphics\n",
    "The visualizations below demonstrate the condition of homes according to home price. The condition is based off of the age and grade of the homes.\n",
    "\n",
    "<img src= \"images/con_vs_price.png\"/>\n",
    "<img src= \"images/cond_joint.png\"/>"
   ]
  },
  {
   "cell_type": "markdown",
   "metadata": {},
   "source": [
    "#### Observations and Conclusions\n",
    "The graphics above show that there is an increase in home prices when the home condition is higher. This makes sense since most home buyers are looking to buy homes that are in good condition so that they do not have to further renovate or deal with construction issues. Even though the building conditions range from 1-5, after removing outliers in the data, we found that a majority of homes sold in King County had condition ratings from 2-5, which makes since since no one want to buy a home that is seriously deteriorated and needs many repairs like homes of poor condition (1 condition rating). A condition rating of 5 seems to be the most profitable. it seems that houses at condition 3 sell higher than houses at condition 4. \n",
    "\n",
    "#### Recommendations\n",
    "I would recommend that the property investor flip homes in conditions 2-3 so that they can negotiate a lower price with the seller. Using the data I obtained, I would recommend the home owner to rennovate the home to the highest possible condition, being 5, which is described as \"Excellent maintenance and updating on home. Not a total renovation\", which would help them to sell the house at a higher price."
   ]
  }
 ],
 "metadata": {
  "kernelspec": {
   "display_name": "learn-env",
   "language": "python",
   "name": "learn-env"
  },
  "language_info": {
   "codemirror_mode": {
    "name": "ipython",
    "version": 3
   },
   "file_extension": ".py",
   "mimetype": "text/x-python",
   "name": "python",
   "nbconvert_exporter": "python",
   "pygments_lexer": "ipython3",
   "version": "3.6.9"
  },
  "toc": {
   "base_numbering": 1,
   "nav_menu": {},
   "number_sections": false,
   "sideBar": true,
   "skip_h1_title": false,
   "title_cell": "Table of Contents",
   "title_sidebar": "Contents",
   "toc_cell": false,
   "toc_position": {},
   "toc_section_display": true,
   "toc_window_display": false
  },
  "varInspector": {
   "cols": {
    "lenName": 16,
    "lenType": 16,
    "lenVar": 40
   },
   "kernels_config": {
    "python": {
     "delete_cmd_postfix": "",
     "delete_cmd_prefix": "del ",
     "library": "var_list.py",
     "varRefreshCmd": "print(var_dic_list())"
    },
    "r": {
     "delete_cmd_postfix": ") ",
     "delete_cmd_prefix": "rm(",
     "library": "var_list.r",
     "varRefreshCmd": "cat(var_dic_list()) "
    }
   },
   "types_to_exclude": [
    "module",
    "function",
    "builtin_function_or_method",
    "instance",
    "_Feature"
   ],
   "window_display": false
  }
 },
 "nbformat": 4,
 "nbformat_minor": 4
}
